{
 "cells": [
  {
   "cell_type": "code",
   "execution_count": null,
   "id": "8f4a1166",
   "metadata": {},
   "outputs": [],
   "source": [
    "#https://towardsdatascience.com/build-a-custom-trained-object-detection-model-with-5-lines-of-code-713ba7f6c0fb"
   ]
  },
  {
   "cell_type": "code",
   "execution_count": null,
   "id": "3cd19c7a",
   "metadata": {},
   "outputs": [],
   "source": [
    "from detecto import core, utils, visualize\n",
    "\n",
    "image = utils.read_image('Fruit.jpeg')\n",
    "model = core.Model()\n",
    "\n",
    "labels, boxes, scores = model.predict_top(image)\n",
    "visualize.show_labeled_image(image, boxes, labels)"
   ]
  },
  {
   "cell_type": "code",
   "execution_count": null,
   "id": "8cdf6a2e",
   "metadata": {},
   "outputs": [],
   "source": [
    "#The code below takes every 4th frame in “Song.mp4” and saves it as a JPEG file in the “frames” folder.\n",
    "from detecto.utils import split_video\n",
    "\n",
    "split_video('Song.mp4', 'frames/', step_size=4)"
   ]
  },
  {
   "cell_type": "code",
   "execution_count": null,
   "id": "9adef901",
   "metadata": {},
   "outputs": [],
   "source": [
    "\"\"\"\n",
    "Now comes the time-consuming part: labeling. \n",
    "Detecto supports the PASCAL VOC format, in which you have XML files containing label and position \n",
    "data for each object in your images. \n",
    "To create these XML files, you can use the open-source LabelImg tool as follows\n",
    "\"\"\""
   ]
  },
  {
   "cell_type": "code",
   "execution_count": 7,
   "id": "40b87022",
   "metadata": {
    "collapsed": true
   },
   "outputs": [
    {
     "name": "stdout",
     "output_type": "stream",
     "text": [
      "Requirement already satisfied: labelImg in /Users/thejakamahaulpatha/opt/anaconda3/lib/python3.8/site-packages (1.8.5)\n",
      "Requirement already satisfied: lxml in /Users/thejakamahaulpatha/opt/anaconda3/lib/python3.8/site-packages (from labelImg) (4.6.3)\n",
      "Requirement already satisfied: pyqt5 in /Users/thejakamahaulpatha/.local/lib/python3.8/site-packages (from labelImg) (5.12)\n",
      "Requirement already satisfied: PyQt5_sip<4.20,>=4.19.14 in /Users/thejakamahaulpatha/.local/lib/python3.8/site-packages (from pyqt5->labelImg) (4.19.19)\n",
      "Note: you may need to restart the kernel to use updated packages.\n"
     ]
    }
   ],
   "source": [
    "#Do this in the command prompt\n",
    "pip install labelImg       \n",
    "labelImg"
   ]
  },
  {
   "cell_type": "code",
   "execution_count": 10,
   "id": "a5acc532",
   "metadata": {},
   "outputs": [],
   "source": [
    "import torch"
   ]
  },
  {
   "cell_type": "code",
   "execution_count": 11,
   "id": "13406092",
   "metadata": {},
   "outputs": [
    {
     "name": "stdout",
     "output_type": "stream",
     "text": [
      "False\n"
     ]
    }
   ],
   "source": [
    "print(torch.cuda.is_available())"
   ]
  },
  {
   "cell_type": "code",
   "execution_count": null,
   "id": "93f1b906",
   "metadata": {},
   "outputs": [],
   "source": []
  }
 ],
 "metadata": {
  "kernelspec": {
   "display_name": "Python 3",
   "language": "python",
   "name": "python3"
  },
  "language_info": {
   "codemirror_mode": {
    "name": "ipython",
    "version": 3
   },
   "file_extension": ".py",
   "mimetype": "text/x-python",
   "name": "python",
   "nbconvert_exporter": "python",
   "pygments_lexer": "ipython3",
   "version": "3.8.8"
  }
 },
 "nbformat": 4,
 "nbformat_minor": 5
}
